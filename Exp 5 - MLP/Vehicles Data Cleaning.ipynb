{
 "cells": [
  {
   "cell_type": "markdown",
   "metadata": {},
   "source": [
    "### Importing Libraries"
   ]
  },
  {
   "cell_type": "code",
   "execution_count": 72,
   "metadata": {
    "colab": {
     "base_uri": "https://localhost:8080/",
     "height": 144
    },
    "colab_type": "code",
    "id": "Q9BOktGg7ghg",
    "outputId": "8a3b12a3-5b78-4004-c253-2c29d3b998cd"
   },
   "outputs": [],
   "source": [
    "%matplotlib inline\n",
    "import pandas as pd\n",
    "import numpy as np\n",
    "import seaborn as sns\n",
    "import matplotlib.pyplot as plt\n",
    "\n",
    "import subprocess as sp\n",
    "import sys,os,shutil,pickle,time\n",
    "from os.path import join\n",
    "plt.style.use('default')"
   ]
  },
  {
   "cell_type": "markdown",
   "metadata": {},
   "source": [
    "### Reading the Data"
   ]
  },
  {
   "cell_type": "code",
   "execution_count": 73,
   "metadata": {
    "colab": {
     "base_uri": "https://localhost:8080/",
     "height": 313
    },
    "colab_type": "code",
    "id": "YjNZDhyK8DYW",
    "outputId": "be48d64f-0b7d-4cd6-8f91-b94382f76f61"
   },
   "outputs": [],
   "source": [
    "df= pd.read_csv('Vehicles.csv')"
   ]
  },
  {
   "cell_type": "code",
   "execution_count": 74,
   "metadata": {
    "colab": {
     "base_uri": "https://localhost:8080/",
     "height": 36
    },
    "colab_type": "code",
    "id": "TFfkveoiFzT1",
    "outputId": "ed558852-5802-426e-fcf8-415f9065365e"
   },
   "outputs": [
    {
     "data": {
      "text/plain": [
       "(423857, 25)"
      ]
     },
     "execution_count": 74,
     "metadata": {},
     "output_type": "execute_result"
    }
   ],
   "source": [
    "df.shape"
   ]
  },
  {
   "cell_type": "code",
   "execution_count": 76,
   "metadata": {
    "colab": {},
    "colab_type": "code",
    "id": "qZ2Gq34S-09P"
   },
   "outputs": [],
   "source": [
    "df = df[['price', 'year', 'manufacturer', 'condition', 'cylinders', 'fuel', 'odometer', 'title_status', 'transmission',\n",
    "       'drive', 'size', 'type', 'paint_color']]"
   ]
  },
  {
   "cell_type": "markdown",
   "metadata": {},
   "source": [
    "### Data Cleaning"
   ]
  },
  {
   "cell_type": "markdown",
   "metadata": {
    "colab_type": "text",
    "id": "ef90a9y1FU4G"
   },
   "source": [
    "Let's eliminate extreme values from price column"
   ]
  },
  {
   "cell_type": "code",
   "execution_count": 77,
   "metadata": {
    "colab": {
     "base_uri": "https://localhost:8080/",
     "height": 36
    },
    "colab_type": "code",
    "id": "ll5qy9kJrmSw",
    "outputId": "638f2ddd-c56f-4b66-8db2-ae898eeb10ba"
   },
   "outputs": [
    {
     "data": {
      "text/plain": [
       "(376473, 13)"
      ]
     },
     "execution_count": 77,
     "metadata": {},
     "output_type": "execute_result"
    }
   ],
   "source": [
    "df=df[(df.price < 100000) & (df.price >= 750 )]\n",
    "df.shape"
   ]
  },
  {
   "cell_type": "markdown",
   "metadata": {
    "colab_type": "text",
    "id": "ehlPv8hkFt9Y"
   },
   "source": [
    "Odometers higher than 300k and lower than 10, and models earlier than 1985 may not be good observations for a robust prediction:"
   ]
  },
  {
   "cell_type": "code",
   "execution_count": 78,
   "metadata": {
    "colab": {
     "base_uri": "https://localhost:8080/",
     "height": 36
    },
    "colab_type": "code",
    "id": "TIu4EX29F92a",
    "outputId": "80dde6e9-f375-4ddf-e117-8d10867b7628"
   },
   "outputs": [
    {
     "data": {
      "text/plain": [
       "(232349, 13)"
      ]
     },
     "execution_count": 78,
     "metadata": {},
     "output_type": "execute_result"
    }
   ],
   "source": [
    "df=df[(df.odometer < 300000) & (df.odometer > 1000)]\n",
    "df=df[df.year>1985]\n",
    "df.shape"
   ]
  },
  {
   "cell_type": "code",
   "execution_count": 79,
   "metadata": {
    "colab": {
     "base_uri": "https://localhost:8080/",
     "height": 36
    },
    "colab_type": "code",
    "id": "gxWkf36JBbHO",
    "outputId": "3788135a-a0d7-49af-a660-d553fbae5f60"
   },
   "outputs": [
    {
     "data": {
      "text/plain": [
       "98231"
      ]
     },
     "execution_count": 79,
     "metadata": {},
     "output_type": "execute_result"
    }
   ],
   "source": [
    "df['condition'].isnull().sum()"
   ]
  },
  {
   "cell_type": "code",
   "execution_count": 80,
   "metadata": {
    "colab": {
     "base_uri": "https://localhost:8080/",
     "height": 36
    },
    "colab_type": "code",
    "id": "SRPQnOvRjBuB",
    "outputId": "d6752c12-70d4-466b-d895-2c97164d67f2"
   },
   "outputs": [
    {
     "data": {
      "text/plain": [
       "30461"
      ]
     },
     "execution_count": 80,
     "metadata": {},
     "output_type": "execute_result"
    }
   ],
   "source": [
    "df.loc[(df['year'] >= 2017)]['condition'].isnull().sum()"
   ]
  },
  {
   "cell_type": "code",
   "execution_count": 81,
   "metadata": {
    "colab": {
     "base_uri": "https://localhost:8080/",
     "height": 148
    },
    "colab_type": "code",
    "id": "s7p7sriQjcyZ",
    "outputId": "5d7f27ba-65b8-4d47-fd0b-699fe6c2d2c7"
   },
   "outputs": [
    {
     "data": {
      "text/plain": [
       "excellent    64937\n",
       "good         51387\n",
       "like new     13178\n",
       "fair          3998\n",
       "new            391\n",
       "salvage        227\n",
       "Name: condition, dtype: int64"
      ]
     },
     "execution_count": 81,
     "metadata": {},
     "output_type": "execute_result"
    }
   ],
   "source": [
    "df.condition.value_counts()"
   ]
  },
  {
   "cell_type": "code",
   "execution_count": 82,
   "metadata": {
    "colab": {},
    "colab_type": "code",
    "id": "ATJYoEdsjWfZ"
   },
   "outputs": [],
   "source": [
    "df.loc[df.year>=2019, 'condition'] = df.loc[df.year>=2019, 'condition'].fillna('new')\n",
    "df.loc[df.year>=2017, 'condition'] = df.loc[df.year>=2017, 'condition'].fillna('like new')"
   ]
  },
  {
   "cell_type": "code",
   "execution_count": 83,
   "metadata": {
    "colab": {
     "base_uri": "https://localhost:8080/",
     "height": 148
    },
    "colab_type": "code",
    "id": "yw5ZiMq0kSv6",
    "outputId": "c1c9ba45-0250-4fb6-a423-2917d86b8990"
   },
   "outputs": [
    {
     "data": {
      "text/plain": [
       "excellent    64937\n",
       "good         51387\n",
       "like new     34405\n",
       "new           9625\n",
       "fair          3998\n",
       "salvage        227\n",
       "Name: condition, dtype: int64"
      ]
     },
     "execution_count": 83,
     "metadata": {},
     "output_type": "execute_result"
    }
   ],
   "source": [
    "df.condition.value_counts()"
   ]
  },
  {
   "cell_type": "markdown",
   "metadata": {
    "colab_type": "text",
    "id": "ofyX28oGOAzZ"
   },
   "source": [
    "I will assume that milage of the car affects it's condition. Therefore, I will fill missing values depending on odometer."
   ]
  },
  {
   "cell_type": "code",
   "execution_count": 84,
   "metadata": {
    "colab": {},
    "colab_type": "code",
    "id": "qP11RdMfOPH1"
   },
   "outputs": [],
   "source": [
    "excellent_odo_mean = df[df['condition'] == 'excellent']['odometer'].mean()\n",
    "good_odo_mean = df[df['condition'] == 'good']['odometer'].mean()\n",
    "like_new_odo_mean = df[df['condition'] == 'like new']['odometer'].mean()\n",
    "salvage_odo_mean = df[df['condition'] == 'salvage']['odometer'].mean()\n",
    "fair_odo_mean = df[df['condition'] == 'fair']['odometer'].mean()"
   ]
  },
  {
   "cell_type": "code",
   "execution_count": 85,
   "metadata": {
    "colab": {
     "base_uri": "https://localhost:8080/",
     "height": 111
    },
    "colab_type": "code",
    "id": "l_Kou9RFQ_mR",
    "outputId": "25ff603e-bdba-4c0b-ca80-db1c43b7fc55"
   },
   "outputs": [
    {
     "name": "stdout",
     "output_type": "stream",
     "text": [
      "Like new average odometer: 57093.17\n",
      "Excellent average odometer: 106599.31\n",
      "Good average odometer: 109782.47\n",
      "Fair average odometer: 173469.2\n",
      "Salvage average odometer: 140622.37\n"
     ]
    }
   ],
   "source": [
    "print('Like new average odometer:', round( like_new_odo_mean,2))\n",
    "print('Excellent average odometer:', round( excellent_odo_mean,2))\n",
    "print('Good average odometer:', round( good_odo_mean,2))\n",
    "print('Fair average odometer:', round( fair_odo_mean,2))\n",
    "print('Salvage average odometer:', round( salvage_odo_mean,2))"
   ]
  },
  {
   "cell_type": "code",
   "execution_count": 86,
   "metadata": {
    "colab": {
     "base_uri": "https://localhost:8080/",
     "height": 148
    },
    "colab_type": "code",
    "id": "8TgtGBcBJdEv",
    "outputId": "0330424e-2fb9-4f92-d2dd-fda6a692c345"
   },
   "outputs": [
    {
     "data": {
      "text/plain": [
       "like new     21646\n",
       "good         13343\n",
       "excellent    12677\n",
       "new           9280\n",
       "fair            88\n",
       "salvage         25\n",
       "Name: condition, dtype: int64"
      ]
     },
     "execution_count": 86,
     "metadata": {},
     "output_type": "execute_result"
    }
   ],
   "source": [
    "df.loc[df['odometer'] <= like_new_odo_mean, 'condition'].value_counts()"
   ]
  },
  {
   "cell_type": "code",
   "execution_count": 87,
   "metadata": {
    "colab": {},
    "colab_type": "code",
    "id": "ILjZe0HnGkIk"
   },
   "outputs": [],
   "source": [
    "df.loc[df['odometer'] <= like_new_odo_mean, 'condition'] = df.loc[df['odometer'] <= like_new_odo_mean, 'condition'].fillna('like new')\n",
    "\n",
    "df.loc[df['odometer'] >= fair_odo_mean, 'condition'] = df.loc[df['odometer'] >= fair_odo_mean, 'condition'].fillna('fair')\n",
    "\n",
    "df.loc[((df['odometer'] > like_new_odo_mean) & \n",
    "       (df['odometer'] <= excellent_odo_mean)), 'condition'] = df.loc[((df['odometer'] > like_new_odo_mean) & \n",
    "       (df['odometer'] <= excellent_odo_mean)), 'condition'].fillna('excellent')\n",
    "\n",
    "df.loc[((df['odometer'] > excellent_odo_mean) & \n",
    "       (df['odometer'] <= good_odo_mean)), 'condition'] = df.loc[((df['odometer'] > excellent_odo_mean) & \n",
    "       (df['odometer'] <= good_odo_mean)), 'condition'].fillna('good')\n",
    "\n",
    "df.loc[((df['odometer'] > good_odo_mean) & \n",
    "       (df['odometer'] <= fair_odo_mean)), 'condition'] = df.loc[((df['odometer'] > good_odo_mean) & \n",
    "       (df['odometer'] <= fair_odo_mean)), 'condition'].fillna('salvage')"
   ]
  },
  {
   "cell_type": "code",
   "execution_count": 88,
   "metadata": {
    "colab": {
     "base_uri": "https://localhost:8080/",
     "height": 186
    },
    "colab_type": "code",
    "id": "VmYjgVM6C6Rd",
    "outputId": "df1ee6a5-58fd-4a85-c222-a6baa82acc17"
   },
   "outputs": [
    {
     "data": {
      "text/plain": [
       "4 cylinders     56064\n",
       "6 cylinders     55438\n",
       "8 cylinders     38391\n",
       "5 cylinders      1329\n",
       "10 cylinders      619\n",
       "other             446\n",
       "3 cylinders       313\n",
       "12 cylinders      124\n",
       "Name: cylinders, dtype: int64"
      ]
     },
     "execution_count": 88,
     "metadata": {},
     "output_type": "execute_result"
    }
   ],
   "source": [
    "df.cylinders.value_counts()"
   ]
  },
  {
   "cell_type": "code",
   "execution_count": 89,
   "metadata": {
    "colab": {},
    "colab_type": "code",
    "id": "CvzVOWybwDm-"
   },
   "outputs": [],
   "source": [
    "df['transmission'] = df['transmission'].fillna(method='ffill')\n",
    "df['cylinders'] = df['cylinders'].fillna(method='ffill')\n",
    "df['title_status'] = df['title_status'].fillna(method='ffill')\n",
    "df['fuel'] = df['fuel'].fillna(method='ffill')\n",
    "df['size'] = df['size'].fillna(method='ffill')\n",
    "df['paint_color'] = df['paint_color'].fillna(method='ffill')\n",
    "df['drive'] = df['drive'].fillna(method='ffill')\n",
    "df['manufacturer'] = df['manufacturer'].fillna(method='ffill')\n",
    "df['type'] = df['type'].fillna(method='ffill')"
   ]
  },
  {
   "cell_type": "code",
   "execution_count": 90,
   "metadata": {
    "colab": {
     "base_uri": "https://localhost:8080/",
     "height": 298
    },
    "colab_type": "code",
    "id": "VcJO53u_2RFp",
    "outputId": "77817278-c23a-48dd-9d8b-54716699c3b0"
   },
   "outputs": [
    {
     "data": {
      "text/plain": [
       "price           0\n",
       "year            0\n",
       "manufacturer    0\n",
       "condition       0\n",
       "cylinders       0\n",
       "fuel            0\n",
       "odometer        0\n",
       "title_status    0\n",
       "transmission    0\n",
       "drive           0\n",
       "size            3\n",
       "type            3\n",
       "paint_color     0\n",
       "dtype: int64"
      ]
     },
     "execution_count": 90,
     "metadata": {},
     "output_type": "execute_result"
    }
   ],
   "source": [
    "df.isnull().sum()"
   ]
  },
  {
   "cell_type": "code",
   "execution_count": 91,
   "metadata": {
    "colab": {
     "base_uri": "https://localhost:8080/",
     "height": 1000
    },
    "colab_type": "code",
    "id": "w_Fx6qei5F50",
    "outputId": "0a956da8-8ba5-48fd-ea0b-1f20d58bb9c8"
   },
   "outputs": [
    {
     "data": {
      "text/html": [
       "<div>\n",
       "<style scoped>\n",
       "    .dataframe tbody tr th:only-of-type {\n",
       "        vertical-align: middle;\n",
       "    }\n",
       "\n",
       "    .dataframe tbody tr th {\n",
       "        vertical-align: top;\n",
       "    }\n",
       "\n",
       "    .dataframe thead th {\n",
       "        text-align: right;\n",
       "    }\n",
       "</style>\n",
       "<table border=\"1\" class=\"dataframe\">\n",
       "  <thead>\n",
       "    <tr style=\"text-align: right;\">\n",
       "      <th></th>\n",
       "      <th>price</th>\n",
       "      <th>year</th>\n",
       "      <th>manufacturer</th>\n",
       "      <th>condition</th>\n",
       "      <th>cylinders</th>\n",
       "      <th>fuel</th>\n",
       "      <th>odometer</th>\n",
       "      <th>title_status</th>\n",
       "      <th>transmission</th>\n",
       "      <th>drive</th>\n",
       "      <th>size</th>\n",
       "      <th>type</th>\n",
       "      <th>paint_color</th>\n",
       "    </tr>\n",
       "  </thead>\n",
       "  <tbody>\n",
       "    <tr>\n",
       "      <th>88633</th>\n",
       "      <td>2500</td>\n",
       "      <td>2007.0</td>\n",
       "      <td>volkswagen</td>\n",
       "      <td>good</td>\n",
       "      <td>5 cylinders</td>\n",
       "      <td>gas</td>\n",
       "      <td>255000.0</td>\n",
       "      <td>clean</td>\n",
       "      <td>automatic</td>\n",
       "      <td>fwd</td>\n",
       "      <td>compact</td>\n",
       "      <td>hatchback</td>\n",
       "      <td>grey</td>\n",
       "    </tr>\n",
       "    <tr>\n",
       "      <th>405854</th>\n",
       "      <td>66500</td>\n",
       "      <td>2018.0</td>\n",
       "      <td>ram</td>\n",
       "      <td>like new</td>\n",
       "      <td>6 cylinders</td>\n",
       "      <td>diesel</td>\n",
       "      <td>9000.0</td>\n",
       "      <td>lien</td>\n",
       "      <td>manual</td>\n",
       "      <td>4wd</td>\n",
       "      <td>full-size</td>\n",
       "      <td>truck</td>\n",
       "      <td>red</td>\n",
       "    </tr>\n",
       "    <tr>\n",
       "      <th>318114</th>\n",
       "      <td>12900</td>\n",
       "      <td>2009.0</td>\n",
       "      <td>mercedes-benz</td>\n",
       "      <td>excellent</td>\n",
       "      <td>5 cylinders</td>\n",
       "      <td>gas</td>\n",
       "      <td>117039.0</td>\n",
       "      <td>clean</td>\n",
       "      <td>automatic</td>\n",
       "      <td>fwd</td>\n",
       "      <td>full-size</td>\n",
       "      <td>SUV</td>\n",
       "      <td>black</td>\n",
       "    </tr>\n",
       "    <tr>\n",
       "      <th>70372</th>\n",
       "      <td>17995</td>\n",
       "      <td>2003.0</td>\n",
       "      <td>lexus</td>\n",
       "      <td>excellent</td>\n",
       "      <td>8 cylinders</td>\n",
       "      <td>gas</td>\n",
       "      <td>39657.0</td>\n",
       "      <td>clean</td>\n",
       "      <td>automatic</td>\n",
       "      <td>rwd</td>\n",
       "      <td>compact</td>\n",
       "      <td>sedan</td>\n",
       "      <td>blue</td>\n",
       "    </tr>\n",
       "    <tr>\n",
       "      <th>394894</th>\n",
       "      <td>9995</td>\n",
       "      <td>2008.0</td>\n",
       "      <td>toyota</td>\n",
       "      <td>excellent</td>\n",
       "      <td>4 cylinders</td>\n",
       "      <td>gas</td>\n",
       "      <td>142649.0</td>\n",
       "      <td>clean</td>\n",
       "      <td>automatic</td>\n",
       "      <td>4wd</td>\n",
       "      <td>compact</td>\n",
       "      <td>SUV</td>\n",
       "      <td>silver</td>\n",
       "    </tr>\n",
       "    <tr>\n",
       "      <th>318703</th>\n",
       "      <td>21995</td>\n",
       "      <td>2019.0</td>\n",
       "      <td>chrysler</td>\n",
       "      <td>new</td>\n",
       "      <td>6 cylinders</td>\n",
       "      <td>gas</td>\n",
       "      <td>34217.0</td>\n",
       "      <td>clean</td>\n",
       "      <td>automatic</td>\n",
       "      <td>rwd</td>\n",
       "      <td>full-size</td>\n",
       "      <td>sedan</td>\n",
       "      <td>black</td>\n",
       "    </tr>\n",
       "    <tr>\n",
       "      <th>9681</th>\n",
       "      <td>15995</td>\n",
       "      <td>2017.0</td>\n",
       "      <td>ford</td>\n",
       "      <td>like new</td>\n",
       "      <td>4 cylinders</td>\n",
       "      <td>gas</td>\n",
       "      <td>77843.0</td>\n",
       "      <td>clean</td>\n",
       "      <td>automatic</td>\n",
       "      <td>4wd</td>\n",
       "      <td>compact</td>\n",
       "      <td>van</td>\n",
       "      <td>white</td>\n",
       "    </tr>\n",
       "    <tr>\n",
       "      <th>292023</th>\n",
       "      <td>14000</td>\n",
       "      <td>2017.0</td>\n",
       "      <td>hyundai</td>\n",
       "      <td>like new</td>\n",
       "      <td>4 cylinders</td>\n",
       "      <td>gas</td>\n",
       "      <td>40941.0</td>\n",
       "      <td>clean</td>\n",
       "      <td>automatic</td>\n",
       "      <td>fwd</td>\n",
       "      <td>compact</td>\n",
       "      <td>other</td>\n",
       "      <td>silver</td>\n",
       "    </tr>\n",
       "    <tr>\n",
       "      <th>1478</th>\n",
       "      <td>14950</td>\n",
       "      <td>2013.0</td>\n",
       "      <td>ram</td>\n",
       "      <td>good</td>\n",
       "      <td>6 cylinders</td>\n",
       "      <td>gas</td>\n",
       "      <td>126015.0</td>\n",
       "      <td>clean</td>\n",
       "      <td>automatic</td>\n",
       "      <td>rwd</td>\n",
       "      <td>full-size</td>\n",
       "      <td>pickup</td>\n",
       "      <td>white</td>\n",
       "    </tr>\n",
       "    <tr>\n",
       "      <th>420375</th>\n",
       "      <td>25900</td>\n",
       "      <td>1998.0</td>\n",
       "      <td>chevrolet</td>\n",
       "      <td>like new</td>\n",
       "      <td>6 cylinders</td>\n",
       "      <td>gas</td>\n",
       "      <td>17752.0</td>\n",
       "      <td>clean</td>\n",
       "      <td>automatic</td>\n",
       "      <td>fwd</td>\n",
       "      <td>sub-compact</td>\n",
       "      <td>SUV</td>\n",
       "      <td>white</td>\n",
       "    </tr>\n",
       "  </tbody>\n",
       "</table>\n",
       "</div>"
      ],
      "text/plain": [
       "        price    year   manufacturer  condition    cylinders    fuel  \\\n",
       "88633    2500  2007.0     volkswagen       good  5 cylinders     gas   \n",
       "405854  66500  2018.0            ram   like new  6 cylinders  diesel   \n",
       "318114  12900  2009.0  mercedes-benz  excellent  5 cylinders     gas   \n",
       "70372   17995  2003.0          lexus  excellent  8 cylinders     gas   \n",
       "394894   9995  2008.0         toyota  excellent  4 cylinders     gas   \n",
       "318703  21995  2019.0       chrysler        new  6 cylinders     gas   \n",
       "9681    15995  2017.0           ford   like new  4 cylinders     gas   \n",
       "292023  14000  2017.0        hyundai   like new  4 cylinders     gas   \n",
       "1478    14950  2013.0            ram       good  6 cylinders     gas   \n",
       "420375  25900  1998.0      chevrolet   like new  6 cylinders     gas   \n",
       "\n",
       "        odometer title_status transmission drive         size       type  \\\n",
       "88633   255000.0        clean    automatic   fwd      compact  hatchback   \n",
       "405854    9000.0         lien       manual   4wd    full-size      truck   \n",
       "318114  117039.0        clean    automatic   fwd    full-size        SUV   \n",
       "70372    39657.0        clean    automatic   rwd      compact      sedan   \n",
       "394894  142649.0        clean    automatic   4wd      compact        SUV   \n",
       "318703   34217.0        clean    automatic   rwd    full-size      sedan   \n",
       "9681     77843.0        clean    automatic   4wd      compact        van   \n",
       "292023   40941.0        clean    automatic   fwd      compact      other   \n",
       "1478    126015.0        clean    automatic   rwd    full-size     pickup   \n",
       "420375   17752.0        clean    automatic   fwd  sub-compact        SUV   \n",
       "\n",
       "       paint_color  \n",
       "88633         grey  \n",
       "405854         red  \n",
       "318114       black  \n",
       "70372         blue  \n",
       "394894      silver  \n",
       "318703       black  \n",
       "9681         white  \n",
       "292023      silver  \n",
       "1478         white  \n",
       "420375       white  "
      ]
     },
     "execution_count": 91,
     "metadata": {},
     "output_type": "execute_result"
    }
   ],
   "source": [
    "df.sample(10)"
   ]
  },
  {
   "cell_type": "code",
   "execution_count": 92,
   "metadata": {
    "colab": {},
    "colab_type": "code",
    "id": "1jtXbk30M4gs"
   },
   "outputs": [],
   "source": [
    "import seaborn as sns\n",
    "import matplotlib.pyplot as plt\n",
    "from scipy import stats"
   ]
  },
  {
   "cell_type": "code",
   "execution_count": 94,
   "metadata": {
    "colab": {
     "base_uri": "https://localhost:8080/",
     "height": 237
    },
    "colab_type": "code",
    "id": "sTFchqROCuhD",
    "outputId": "ade35558-a4ca-4aeb-fd45-7e6cb5e773c9"
   },
   "outputs": [
    {
     "data": {
      "text/html": [
       "<div>\n",
       "<style scoped>\n",
       "    .dataframe tbody tr th:only-of-type {\n",
       "        vertical-align: middle;\n",
       "    }\n",
       "\n",
       "    .dataframe tbody tr th {\n",
       "        vertical-align: top;\n",
       "    }\n",
       "\n",
       "    .dataframe thead th {\n",
       "        text-align: right;\n",
       "    }\n",
       "</style>\n",
       "<table border=\"1\" class=\"dataframe\">\n",
       "  <thead>\n",
       "    <tr style=\"text-align: right;\">\n",
       "      <th></th>\n",
       "      <th></th>\n",
       "      <th>manufacturer</th>\n",
       "      <th>condition</th>\n",
       "      <th>cylinders</th>\n",
       "      <th>fuel</th>\n",
       "      <th>odometer</th>\n",
       "      <th>title_status</th>\n",
       "      <th>transmission</th>\n",
       "      <th>drive</th>\n",
       "      <th>size</th>\n",
       "      <th>type</th>\n",
       "      <th>paint_color</th>\n",
       "    </tr>\n",
       "    <tr>\n",
       "      <th>price</th>\n",
       "      <th>year</th>\n",
       "      <th></th>\n",
       "      <th></th>\n",
       "      <th></th>\n",
       "      <th></th>\n",
       "      <th></th>\n",
       "      <th></th>\n",
       "      <th></th>\n",
       "      <th></th>\n",
       "      <th></th>\n",
       "      <th></th>\n",
       "      <th></th>\n",
       "    </tr>\n",
       "  </thead>\n",
       "  <tbody>\n",
       "    <tr>\n",
       "      <th>41895</th>\n",
       "      <th>2012.0</th>\n",
       "      <td>honda</td>\n",
       "      <td>like new</td>\n",
       "      <td>6 cylinders</td>\n",
       "      <td>gas</td>\n",
       "      <td>28593.0</td>\n",
       "      <td>clean</td>\n",
       "      <td>automatic</td>\n",
       "      <td>fwd</td>\n",
       "      <td>sub-compact</td>\n",
       "      <td>coupe</td>\n",
       "      <td>brown</td>\n",
       "    </tr>\n",
       "    <tr>\n",
       "      <th>16000</th>\n",
       "      <th>2006.0</th>\n",
       "      <td>lincoln</td>\n",
       "      <td>excellent</td>\n",
       "      <td>8 cylinders</td>\n",
       "      <td>gas</td>\n",
       "      <td>103885.0</td>\n",
       "      <td>clean</td>\n",
       "      <td>automatic</td>\n",
       "      <td>rwd</td>\n",
       "      <td>full-size</td>\n",
       "      <td>sedan</td>\n",
       "      <td>white</td>\n",
       "    </tr>\n",
       "    <tr>\n",
       "      <th>12800</th>\n",
       "      <th>2010.0</th>\n",
       "      <td>buick</td>\n",
       "      <td>excellent</td>\n",
       "      <td>6 cylinders</td>\n",
       "      <td>gas</td>\n",
       "      <td>93000.0</td>\n",
       "      <td>clean</td>\n",
       "      <td>automatic</td>\n",
       "      <td>4wd</td>\n",
       "      <td>full-size</td>\n",
       "      <td>SUV</td>\n",
       "      <td>white</td>\n",
       "    </tr>\n",
       "    <tr>\n",
       "      <th>15995</th>\n",
       "      <th>2016.0</th>\n",
       "      <td>jeep</td>\n",
       "      <td>excellent</td>\n",
       "      <td>4 cylinders</td>\n",
       "      <td>gas</td>\n",
       "      <td>80273.0</td>\n",
       "      <td>clean</td>\n",
       "      <td>automatic</td>\n",
       "      <td>4wd</td>\n",
       "      <td>compact</td>\n",
       "      <td>SUV</td>\n",
       "      <td>white</td>\n",
       "    </tr>\n",
       "    <tr>\n",
       "      <th>67999</th>\n",
       "      <th>2019.0</th>\n",
       "      <td>ford</td>\n",
       "      <td>new</td>\n",
       "      <td>8 cylinders</td>\n",
       "      <td>diesel</td>\n",
       "      <td>20000.0</td>\n",
       "      <td>clean</td>\n",
       "      <td>automatic</td>\n",
       "      <td>rwd</td>\n",
       "      <td>full-size</td>\n",
       "      <td>SUV</td>\n",
       "      <td>black</td>\n",
       "    </tr>\n",
       "  </tbody>\n",
       "</table>\n",
       "</div>"
      ],
      "text/plain": [
       "             manufacturer  condition    cylinders    fuel  odometer  \\\n",
       "price year                                                            \n",
       "41895 2012.0        honda   like new  6 cylinders     gas   28593.0   \n",
       "16000 2006.0      lincoln  excellent  8 cylinders     gas  103885.0   \n",
       "12800 2010.0        buick  excellent  6 cylinders     gas   93000.0   \n",
       "15995 2016.0         jeep  excellent  4 cylinders     gas   80273.0   \n",
       "67999 2019.0         ford        new  8 cylinders  diesel   20000.0   \n",
       "\n",
       "             title_status transmission drive         size   type paint_color  \n",
       "price year                                                                    \n",
       "41895 2012.0        clean    automatic   fwd  sub-compact  coupe       brown  \n",
       "16000 2006.0        clean    automatic   rwd    full-size  sedan       white  \n",
       "12800 2010.0        clean    automatic   4wd    full-size    SUV       white  \n",
       "15995 2016.0        clean    automatic   4wd      compact    SUV       white  \n",
       "67999 2019.0        clean    automatic   rwd    full-size    SUV       black  "
      ]
     },
     "execution_count": 94,
     "metadata": {},
     "output_type": "execute_result"
    }
   ],
   "source": [
    "df.set_index(['price', 'year']).sample(5)"
   ]
  },
  {
   "cell_type": "code",
   "execution_count": 95,
   "metadata": {
    "colab": {
     "base_uri": "https://localhost:8080/",
     "height": 363
    },
    "colab_type": "code",
    "id": "DimvXJbPFThF",
    "outputId": "75e31cb3-4930-445e-b118-e3aaa0946075"
   },
   "outputs": [
    {
     "data": {
      "text/html": [
       "<div>\n",
       "<style scoped>\n",
       "    .dataframe tbody tr th:only-of-type {\n",
       "        vertical-align: middle;\n",
       "    }\n",
       "\n",
       "    .dataframe tbody tr th {\n",
       "        vertical-align: top;\n",
       "    }\n",
       "\n",
       "    .dataframe thead th {\n",
       "        text-align: right;\n",
       "    }\n",
       "</style>\n",
       "<table border=\"1\" class=\"dataframe\">\n",
       "  <thead>\n",
       "    <tr style=\"text-align: right;\">\n",
       "      <th></th>\n",
       "      <th>price</th>\n",
       "      <th>year</th>\n",
       "      <th>manufacturer</th>\n",
       "      <th>condition</th>\n",
       "      <th>cylinders</th>\n",
       "      <th>fuel</th>\n",
       "      <th>odometer</th>\n",
       "      <th>title_status</th>\n",
       "      <th>transmission</th>\n",
       "      <th>drive</th>\n",
       "      <th>size</th>\n",
       "      <th>type</th>\n",
       "      <th>paint_color</th>\n",
       "    </tr>\n",
       "  </thead>\n",
       "  <tbody>\n",
       "    <tr>\n",
       "      <th>382296</th>\n",
       "      <td>16995</td>\n",
       "      <td>2001.0</td>\n",
       "      <td>ford</td>\n",
       "      <td>good</td>\n",
       "      <td>8 cylinders</td>\n",
       "      <td>gas</td>\n",
       "      <td>149680.0</td>\n",
       "      <td>clean</td>\n",
       "      <td>automatic</td>\n",
       "      <td>4wd</td>\n",
       "      <td>full-size</td>\n",
       "      <td>truck</td>\n",
       "      <td>red</td>\n",
       "    </tr>\n",
       "    <tr>\n",
       "      <th>297637</th>\n",
       "      <td>12400</td>\n",
       "      <td>2015.0</td>\n",
       "      <td>bmw</td>\n",
       "      <td>good</td>\n",
       "      <td>4 cylinders</td>\n",
       "      <td>gas</td>\n",
       "      <td>98239.0</td>\n",
       "      <td>clean</td>\n",
       "      <td>automatic</td>\n",
       "      <td>4wd</td>\n",
       "      <td>full-size</td>\n",
       "      <td>wagon</td>\n",
       "      <td>blue</td>\n",
       "    </tr>\n",
       "    <tr>\n",
       "      <th>87460</th>\n",
       "      <td>6900</td>\n",
       "      <td>2011.0</td>\n",
       "      <td>lincoln</td>\n",
       "      <td>excellent</td>\n",
       "      <td>6 cylinders</td>\n",
       "      <td>gas</td>\n",
       "      <td>127263.0</td>\n",
       "      <td>clean</td>\n",
       "      <td>automatic</td>\n",
       "      <td>4wd</td>\n",
       "      <td>compact</td>\n",
       "      <td>sedan</td>\n",
       "      <td>silver</td>\n",
       "    </tr>\n",
       "    <tr>\n",
       "      <th>229348</th>\n",
       "      <td>2200</td>\n",
       "      <td>2002.0</td>\n",
       "      <td>mercedes-benz</td>\n",
       "      <td>good</td>\n",
       "      <td>8 cylinders</td>\n",
       "      <td>gas</td>\n",
       "      <td>179000.0</td>\n",
       "      <td>clean</td>\n",
       "      <td>automatic</td>\n",
       "      <td>4wd</td>\n",
       "      <td>full-size</td>\n",
       "      <td>SUV</td>\n",
       "      <td>silver</td>\n",
       "    </tr>\n",
       "    <tr>\n",
       "      <th>267346</th>\n",
       "      <td>47758</td>\n",
       "      <td>2017.0</td>\n",
       "      <td>ford</td>\n",
       "      <td>like new</td>\n",
       "      <td>6 cylinders</td>\n",
       "      <td>gas</td>\n",
       "      <td>86302.0</td>\n",
       "      <td>clean</td>\n",
       "      <td>automatic</td>\n",
       "      <td>fwd</td>\n",
       "      <td>sub-compact</td>\n",
       "      <td>convertible</td>\n",
       "      <td>silver</td>\n",
       "    </tr>\n",
       "    <tr>\n",
       "      <th>142980</th>\n",
       "      <td>36488</td>\n",
       "      <td>2016.0</td>\n",
       "      <td>gmc</td>\n",
       "      <td>fair</td>\n",
       "      <td>6 cylinders</td>\n",
       "      <td>diesel</td>\n",
       "      <td>178299.0</td>\n",
       "      <td>clean</td>\n",
       "      <td>automatic</td>\n",
       "      <td>4wd</td>\n",
       "      <td>mid-size</td>\n",
       "      <td>pickup</td>\n",
       "      <td>red</td>\n",
       "    </tr>\n",
       "    <tr>\n",
       "      <th>135041</th>\n",
       "      <td>22900</td>\n",
       "      <td>2013.0</td>\n",
       "      <td>chevrolet</td>\n",
       "      <td>good</td>\n",
       "      <td>8 cylinders</td>\n",
       "      <td>diesel</td>\n",
       "      <td>210000.0</td>\n",
       "      <td>clean</td>\n",
       "      <td>automatic</td>\n",
       "      <td>4wd</td>\n",
       "      <td>full-size</td>\n",
       "      <td>truck</td>\n",
       "      <td>white</td>\n",
       "    </tr>\n",
       "    <tr>\n",
       "      <th>416989</th>\n",
       "      <td>5995</td>\n",
       "      <td>2010.0</td>\n",
       "      <td>gmc</td>\n",
       "      <td>fair</td>\n",
       "      <td>4 cylinders</td>\n",
       "      <td>gas</td>\n",
       "      <td>177353.0</td>\n",
       "      <td>clean</td>\n",
       "      <td>automatic</td>\n",
       "      <td>4wd</td>\n",
       "      <td>mid-size</td>\n",
       "      <td>pickup</td>\n",
       "      <td>black</td>\n",
       "    </tr>\n",
       "    <tr>\n",
       "      <th>206266</th>\n",
       "      <td>10990</td>\n",
       "      <td>2010.0</td>\n",
       "      <td>mercedes-benz</td>\n",
       "      <td>salvage</td>\n",
       "      <td>4 cylinders</td>\n",
       "      <td>gas</td>\n",
       "      <td>144692.0</td>\n",
       "      <td>clean</td>\n",
       "      <td>automatic</td>\n",
       "      <td>fwd</td>\n",
       "      <td>compact</td>\n",
       "      <td>SUV</td>\n",
       "      <td>white</td>\n",
       "    </tr>\n",
       "    <tr>\n",
       "      <th>372551</th>\n",
       "      <td>22995</td>\n",
       "      <td>2017.0</td>\n",
       "      <td>ford</td>\n",
       "      <td>like new</td>\n",
       "      <td>6 cylinders</td>\n",
       "      <td>gas</td>\n",
       "      <td>7618.0</td>\n",
       "      <td>clean</td>\n",
       "      <td>automatic</td>\n",
       "      <td>4wd</td>\n",
       "      <td>mid-size</td>\n",
       "      <td>SUV</td>\n",
       "      <td>blue</td>\n",
       "    </tr>\n",
       "  </tbody>\n",
       "</table>\n",
       "</div>"
      ],
      "text/plain": [
       "        price    year   manufacturer  condition    cylinders    fuel  \\\n",
       "382296  16995  2001.0           ford       good  8 cylinders     gas   \n",
       "297637  12400  2015.0            bmw       good  4 cylinders     gas   \n",
       "87460    6900  2011.0        lincoln  excellent  6 cylinders     gas   \n",
       "229348   2200  2002.0  mercedes-benz       good  8 cylinders     gas   \n",
       "267346  47758  2017.0           ford   like new  6 cylinders     gas   \n",
       "142980  36488  2016.0            gmc       fair  6 cylinders  diesel   \n",
       "135041  22900  2013.0      chevrolet       good  8 cylinders  diesel   \n",
       "416989   5995  2010.0            gmc       fair  4 cylinders     gas   \n",
       "206266  10990  2010.0  mercedes-benz    salvage  4 cylinders     gas   \n",
       "372551  22995  2017.0           ford   like new  6 cylinders     gas   \n",
       "\n",
       "        odometer title_status transmission drive         size         type  \\\n",
       "382296  149680.0        clean    automatic   4wd    full-size        truck   \n",
       "297637   98239.0        clean    automatic   4wd    full-size        wagon   \n",
       "87460   127263.0        clean    automatic   4wd      compact        sedan   \n",
       "229348  179000.0        clean    automatic   4wd    full-size          SUV   \n",
       "267346   86302.0        clean    automatic   fwd  sub-compact  convertible   \n",
       "142980  178299.0        clean    automatic   4wd     mid-size       pickup   \n",
       "135041  210000.0        clean    automatic   4wd    full-size        truck   \n",
       "416989  177353.0        clean    automatic   4wd     mid-size       pickup   \n",
       "206266  144692.0        clean    automatic   fwd      compact          SUV   \n",
       "372551    7618.0        clean    automatic   4wd     mid-size          SUV   \n",
       "\n",
       "       paint_color  \n",
       "382296         red  \n",
       "297637        blue  \n",
       "87460       silver  \n",
       "229348      silver  \n",
       "267346      silver  \n",
       "142980         red  \n",
       "135041       white  \n",
       "416989       black  \n",
       "206266       white  \n",
       "372551        blue  "
      ]
     },
     "execution_count": 95,
     "metadata": {},
     "output_type": "execute_result"
    }
   ],
   "source": [
    "df.sort_values('year').sample(10)"
   ]
  },
  {
   "cell_type": "code",
   "execution_count": 97,
   "metadata": {},
   "outputs": [],
   "source": [
    "df = df.dropna()"
   ]
  },
  {
   "cell_type": "code",
   "execution_count": 98,
   "metadata": {
    "colab": {},
    "colab_type": "code",
    "id": "UlPYOhYr6bXI"
   },
   "outputs": [],
   "source": [
    "df.to_csv('cars_cleaned.csv', index=False)"
   ]
  }
 ],
 "metadata": {
  "colab": {
   "collapsed_sections": [],
   "include_colab_link": true,
   "name": "Data Cleaning_Capstone Project.ipynb",
   "provenance": []
  },
  "kernelspec": {
   "display_name": "Python 3",
   "language": "python",
   "name": "python3"
  },
  "language_info": {
   "codemirror_mode": {
    "name": "ipython",
    "version": 3
   },
   "file_extension": ".py",
   "mimetype": "text/x-python",
   "name": "python",
   "nbconvert_exporter": "python",
   "pygments_lexer": "ipython3",
   "version": "3.7.4"
  }
 },
 "nbformat": 4,
 "nbformat_minor": 1
}
